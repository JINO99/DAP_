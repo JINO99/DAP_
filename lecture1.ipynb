{
  "nbformat": 4,
  "nbformat_minor": 0,
  "metadata": {
    "colab": {
      "provenance": [],
      "collapsed_sections": [],
      "authorship_tag": "ABX9TyNL+8vewfP0eso0jXGJQNQ4",
      "include_colab_link": true
    },
    "kernelspec": {
      "name": "python3",
      "display_name": "Python 3"
    },
    "language_info": {
      "name": "python"
    }
  },
  "cells": [
    {
      "cell_type": "markdown",
      "metadata": {
        "id": "view-in-github",
        "colab_type": "text"
      },
      "source": [
        "<a href=\"https://colab.research.google.com/github/JINO99/DAP_/blob/main/lecture1.ipynb\" target=\"_parent\"><img src=\"https://colab.research.google.com/assets/colab-badge.svg\" alt=\"Open In Colab\"/></a>"
      ]
    },
    {
      "cell_type": "code",
      "execution_count": 1,
      "metadata": {
        "id": "W8iGFuupbz7k"
      },
      "outputs": [],
      "source": [
        "import numpy as np\n",
        "import pandas as pd\n",
        "import scipy\n",
        "import matplotlib\n",
        "import seaborn as sns\n",
        "import sklearn"
      ]
    },
    {
      "cell_type": "code",
      "source": [
        "print(f'numpy versin: {np.__version__}')\n",
        "print(f'pandas versin: {np.__version__}')\n",
        "print(f'scipy versin: {scipy.__version__}')\n",
        "print(f'seaborn versin: {sns.__version__}')\n",
        "print(f'sklearn versin: {sklearn.__version__}')"
      ],
      "metadata": {
        "colab": {
          "base_uri": "https://localhost:8080/"
        },
        "id": "N2_4usAzclrU",
        "outputId": "000be27d-edfd-4ad1-95e4-54ddd430fff5"
      },
      "execution_count": 4,
      "outputs": [
        {
          "output_type": "stream",
          "name": "stdout",
          "text": [
            "numpy versin: 1.21.6\n",
            "pandas versin: 1.21.6\n",
            "scipy versin: 1.7.3\n",
            "seaborn versin: 0.11.2\n",
            "sklearn versin: 1.0.2\n"
          ]
        }
      ]
    }
  ]
}